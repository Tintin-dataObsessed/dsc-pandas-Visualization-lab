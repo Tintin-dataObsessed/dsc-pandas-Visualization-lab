














# Your code here
import pandas as pd
import matplotlib.pyplot as plt
%matplotlib inline





# Your code here
df = pd.read_csv('data/ames.csv', index_col=0)





# Run this cell without changes

# Check that df is a dataframe
assert type(df) == pd.DataFrame

# Check that there are the correct number of rows
assert df.shape[0] == 1460

# Check that there are the correct number of columns
# (if this crashes, make sure you specified `index_col=0`)
assert df.shape[1] == 80





# Run this cell without changes
df


# Run this cell without changes
df.info()








# Your code here
df.plot.hist(y='SalePrice', bins=10, edgecolor='black')





# Your code here
df['SalePrice'].describe()



df['SalePrice'].median()





# Replace None with appropriate text
"""
The average sales price of houses sold in Ames is 180921 this is out of 1460 houses.
The median is the middle value of the 1460 houses in Ames which is as a sales price of ,
of 163000. 
The median is slightly lower than the mean but relatively close so the data is normally distributed,
and the majority of house sale prices are around the average.

the standard deviation is 79442, this means on average the house sales prices deviate from the mean amount.

"""





# Your code here
df.plot.hist(y='TotRmsAbvGrd', bins=10, alpha=0.7, edgecolor='black')





# Your code here
df['TotRmsAbvGrd'].describe()


df['TotRmsAbvGrd'].median()





# Replace None with appropriate text
"""
None
"""





# Your code here





# Your code here





# Replace None with appropriate text
"""
None
"""





# Replace None with appropriate code
below_average_condition = None
average_condition = None
above_average_condition = None





# Run this cell without changes

# Check that all of them still have 80 columns
assert below_average_condition.shape[1] == 80
assert average_condition.shape[1] == 80
assert above_average_condition.shape[1] == 80

# Check the numbers of rows of each subset
assert below_average_condition.shape[0] == 88
assert average_condition.shape[0] == 821
assert above_average_condition.shape[0] == 551





# Run this cell without changes

# Set up plot
fig, ax = plt.subplots(figsize=(15,5))

# Create custom bins so all are on the same scale
bins = range(df["SalePrice"].min(), df["SalePrice"].max(), int(df["SalePrice"].median()) // 20)

# Plot three histograms, with reduced opacity (alpha) so we
# can see them overlapping
ax.hist(
    x=above_average_condition["SalePrice"],
    label="above average condition",
    bins=bins,
    color="cyan",
    alpha=0.5
)
ax.hist(
    x=average_condition["SalePrice"],
    label="average condition",
    bins=bins,
    color="gray",
    alpha=0.3
)
ax.hist(
    x=below_average_condition["SalePrice"],
    label="below average condition",
    bins=bins,
    color="yellow",
    alpha=0.5
)

# Customize labels
ax.set_title("Distributions of Sale Price Grouped by Condition")
ax.set_xlabel("Sale Price")
ax.set_ylabel("Number of Houses")
ax.legend();





# Replace None with appropriate text
"""
None
"""





# Your code here





# Your code here





# Replace None with appropriate code

import seaborn as sns

fig, (ax1, ax2) = plt.subplots(ncols=2, figsize=(15,5))

# Plot distribution of column with highest correlation
sns.boxplot(
    x=None,
    y=df["SalePrice"],
    ax=ax1
)
# Plot distribution of column with most negative correlation
sns.boxplot(
    x=None,
    y=df["SalePrice"],
    ax=ax2
)

# Customize labels
ax1.set_title(None)
ax1.set_xlabel(None)
ax1.set_ylabel("Sale Price")
ax2.set_title(None)
ax2.set_xlabel(None)
ax2.set_ylabel("Sale Price");





# Replace None with appropriate text
"""
None
"""





# Run this cell without changes
df["YrSold"].value_counts().sort_index()





# Run this cell without changes

# Make a new column, Age
df["Age"] = df["YrSold"] - df["YearBuilt"]

# Set up plot
fig, ax = plt.subplots(figsize=(15,5))

# Plot Age vs. SalePrice
ax.scatter(df["Age"], df["SalePrice"], alpha=0.3, color="green")
ax.set_title("Home Age vs. Sale Price")
ax.set_xlabel("Age of Home at Time of Sale")
ax.set_ylabel("Sale Price");





# Replace None with appropriate text
"""
None
"""



